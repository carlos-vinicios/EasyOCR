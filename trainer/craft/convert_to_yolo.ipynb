{
 "cells": [
  {
   "cell_type": "code",
   "execution_count": 1,
   "metadata": {},
   "outputs": [],
   "source": [
    "import os\n",
    "from PIL import Image\n",
    "\n",
    "class_id = 0\n",
    "\n",
    "train_gt = \"splited_dataset/ch4_training_localization_transcription_gt\"\n",
    "train_images = \"splited_dataset/ch4_training_images\"\n",
    "\n",
    "test_gt = \"splited_dataset/ch4_test_localization_transcription_gt\"\n",
    "test_images = \"splited_dataset/ch4_test_images\""
   ]
  },
  {
   "cell_type": "code",
   "execution_count": 4,
   "metadata": {},
   "outputs": [],
   "source": [
    "for train_file in os.listdir(train_gt):\n",
    "    with open(os.path.join(train_gt, train_file)) as train_gt_file:\n",
    "        data = train_gt_file.read()\n",
    "\n",
    "    image = Image.open(os.path.join(train_images, train_file.replace(\".txt\", \".jpg\")))\n",
    "    img_w, img_h = image.size\n",
    "    \n",
    "    refactor_annotations = []\n",
    "    annotations = data.split(\"\\n\")\n",
    "    coords = [a.split(\",\")[:-1] for a in annotations]\n",
    "\n",
    "    for coord in coords[:-1]:\n",
    "        x1, y1 = int(coord[0]), int(coord[1])\n",
    "        x2, y2 = int(coord[4]), int(coord[5])\n",
    "\n",
    "        x_center = ((x1 + x2) / 2) / img_w\n",
    "        y_center = ((y1 + y2) / 2) / img_h\n",
    "        width = (x2 - x1) / img_w\n",
    "        height = (y2 - y1) / img_h\n",
    "\n",
    "        refactor_annotations.append(f\"{class_id} {x_center:.6f} {y_center:.6f} {width:.6f} {height:.6f}\")\n",
    "    \n",
    "    assert len(annotations[:-1]) == len(refactor_annotations)\n",
    "\n",
    "    with open(os.path.join(\"yolo_dataset/train\", train_file), \"w\") as train_gt_file:\n",
    "        train_gt_file.write('\\n'.join(refactor_annotations))"
   ]
  },
  {
   "cell_type": "code",
   "execution_count": 2,
   "metadata": {},
   "outputs": [],
   "source": [
    "for test_file in os.listdir(test_gt):\n",
    "    with open(os.path.join(test_gt, test_file)) as test_gt_file:\n",
    "        data = test_gt_file.read()\n",
    "\n",
    "    image = Image.open(os.path.join(test_images, test_file.replace(\".txt\", \".jpg\")))\n",
    "    img_w, img_h = image.size\n",
    "\n",
    "    refactor_annotations = []\n",
    "    annotations = data.split(\"\\n\")\n",
    "    coords = [a.split(\",\")[:-1] for a in annotations]\n",
    "\n",
    "    for coord in coords[:-1]:\n",
    "        x1, y1 = int(coord[0]), int(coord[1])\n",
    "        x2, y2 = int(coord[4]), int(coord[5])\n",
    "\n",
    "        x_center = ((x1 + x2) / 2) / img_w\n",
    "        y_center = ((y1 + y2) / 2) / img_h\n",
    "        width = (x2 - x1) / img_w\n",
    "        height = (y2 - y1) / img_h\n",
    "\n",
    "        refactor_annotations.append(f\"{class_id} {x_center:.6f} {y_center:.6f} {width:.6f} {height:.6f}\")\n",
    "    \n",
    "    assert len(annotations[:-1]) == len(refactor_annotations)\n",
    "\n",
    "    with open(os.path.join(\"yolo_dataset/val\", test_file), \"w\") as test_gt_file:\n",
    "        test_gt_file.write('\\n'.join(refactor_annotations))"
   ]
  },
  {
   "cell_type": "code",
   "execution_count": null,
   "metadata": {},
   "outputs": [],
   "source": []
  }
 ],
 "metadata": {
  "kernelspec": {
   "display_name": "craft_train",
   "language": "python",
   "name": "python3"
  },
  "language_info": {
   "codemirror_mode": {
    "name": "ipython",
    "version": 3
   },
   "file_extension": ".py",
   "mimetype": "text/x-python",
   "name": "python",
   "nbconvert_exporter": "python",
   "pygments_lexer": "ipython3",
   "version": "3.10.15"
  }
 },
 "nbformat": 4,
 "nbformat_minor": 2
}
