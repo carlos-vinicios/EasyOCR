{
 "cells": [
  {
   "cell_type": "code",
   "execution_count": 1,
   "metadata": {},
   "outputs": [],
   "source": [
    "import os, random, shutil\n",
    "\n",
    "SOURCE_DATASET_NAME = \"dataset\"\n",
    "DATASET_NAME = \"splited_dataset\"\n",
    "SOURCE_IMAGE_PATH = \"dataset/ch4_training_images\"\n",
    "\n",
    "if not os.path.exists(DATASET_NAME):\n",
    "    os.makedirs(os.path.join(DATASET_NAME, \"ch4_training_images\"))\n",
    "    os.makedirs(os.path.join(DATASET_NAME, \"ch4_training_localization_transcription_gt\"))\n",
    "    os.makedirs(os.path.join(DATASET_NAME, \"ch4_test_images\"))\n",
    "    os.makedirs(os.path.join(DATASET_NAME, \"ch4_test_localization_transcription_gt\"))"
   ]
  },
  {
   "cell_type": "code",
   "execution_count": 2,
   "metadata": {},
   "outputs": [],
   "source": [
    "IMAGE_DIR = os.path.join(SOURCE_DATASET_NAME, \"ch4_training_images\")\n",
    "LABEL_DIR = os.path.join(SOURCE_DATASET_NAME, \"ch4_training_localization_transcription_gt\")\n",
    "\n",
    "# Função para mover arquivos\n",
    "def copy_files(file_list, split):\n",
    "    for file in file_list:\n",
    "        image_path = os.path.join(IMAGE_DIR, file)\n",
    "        label_path = os.path.join(LABEL_DIR, file.replace(\".jpg\", \".txt\"))\n",
    "\n",
    "        if os.path.exists(label_path):  # Verifica se o label correspondente existe\n",
    "            shutil.copy(image_path, os.path.join(DATASET_NAME, f\"ch4_{split}_images\", file))\n",
    "            shutil.copy(label_path, os.path.join(DATASET_NAME, f\"ch4_{split}_localization_transcription_gt\", os.path.basename(label_path)))\n",
    "\n",
    "# Definição das proporções\n",
    "TRAIN_RATIO = 0.8\n",
    "TEST_RATIO = 0.2\n",
    "\n",
    "# Listando todas as imagens\n",
    "all_images = [f for f in os.listdir(IMAGE_DIR) if f.endswith((\".jpg\"))]\n",
    "random.shuffle(all_images)  # Embaralha os arquivos\n",
    "\n",
    "# Calculando quantidades para cada split\n",
    "num_images = len(all_images)\n",
    "train_count = int(num_images * TRAIN_RATIO)\n",
    "test_count = num_images - train_count\n",
    "\n",
    "# Separando os arquivos\n",
    "train_files = all_images[:train_count]\n",
    "test_files = all_images[train_count:]\n",
    "\n",
    "# Movendo os arquivos\n",
    "copy_files(train_files, \"training\")\n",
    "copy_files(test_files, \"test\")"
   ]
  },
  {
   "cell_type": "code",
   "execution_count": null,
   "metadata": {},
   "outputs": [],
   "source": []
  }
 ],
 "metadata": {
  "kernelspec": {
   "display_name": "craft_train",
   "language": "python",
   "name": "python3"
  },
  "language_info": {
   "codemirror_mode": {
    "name": "ipython",
    "version": 3
   },
   "file_extension": ".py",
   "mimetype": "text/x-python",
   "name": "python",
   "nbconvert_exporter": "python",
   "pygments_lexer": "ipython3",
   "version": "3.10.15"
  }
 },
 "nbformat": 4,
 "nbformat_minor": 2
}
